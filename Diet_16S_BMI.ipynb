{
 "cells": [
  {
   "cell_type": "code",
   "execution_count": 25,
   "metadata": {
    "collapsed": false
   },
   "outputs": [],
   "source": [
    "source('util.R')"
   ]
  },
  {
   "cell_type": "code",
   "execution_count": null,
   "metadata": {
    "collapsed": false
   },
   "outputs": [],
   "source": [
    "data_rdp <- read.table('data/Diet/Diet_study',header=T,row.names=1,check.names=F,sep='\\t')\n",
    "colnames(data_rdp) <- sapply(strsplit(colnames(data_rdp),'\\\\.'),'[[',1)\n",
    "\n",
    "data_rdp <- sweep(data_rdp,2,colSums(data_rdp),'/')\n",
    "### Load metadata\n",
    "meta <- read.table('data/Diet/meta',header=T,row.names=1,check.names=F,sep='\\t')\n",
    "\n",
    "###Get the top X most abundant OUTs\n",
    "data_rdp <- data_rdp[order(rowSums(data_rdp),decreasing=T),]\n",
    "## Remove the Unknown\n",
    "data_rdp <- data_rdp[-1,]\n",
    "data_rdp <- log10(data_rdp[2:80,]+1e-5)\n",
    "data_rdp <- data.frame(t(data_rdp))\n",
    "data_rdp$res <- meta[rownames(data_rdp),]$BMI\n",
    "data_rdp <- subset(data_rdp,!is.na(res))\n",
    "## Build model\n",
    "cross10(data_rdp,method='lasso',times=10)[[1]]"
   ]
  }
 ],
 "metadata": {
  "kernelspec": {
   "display_name": "R",
   "language": "R",
   "name": "ir"
  },
  "language_info": {
   "codemirror_mode": "r",
   "file_extension": ".r",
   "mimetype": "text/x-r-source",
   "name": "R",
   "pygments_lexer": "r",
   "version": "3.2.2"
  }
 },
 "nbformat": 4,
 "nbformat_minor": 0
}
