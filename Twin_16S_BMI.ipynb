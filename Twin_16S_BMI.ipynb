{
 "cells": [
  {
   "cell_type": "code",
   "execution_count": 1,
   "metadata": {
    "collapsed": false
   },
   "outputs": [
    {
     "name": "stderr",
     "output_type": "stream",
     "text": [
      "Loading required package: Matrix\n",
      "Loading required package: foreach\n",
      "Loaded glmnet 2.0-2\n",
      "\n"
     ]
    }
   ],
   "source": [
    "source('util.R')"
   ]
  },
  {
   "cell_type": "code",
   "execution_count": 2,
   "metadata": {
    "collapsed": false
   },
   "outputs": [
    {
     "data": {
      "text/html": [
       "<ol class=list-inline>\n",
       "\t<li>0.0697732514148804</li>\n",
       "\t<li>0.0683069866575996</li>\n",
       "\t<li>0.0635252044576023</li>\n",
       "\t<li>0.0736964264224981</li>\n",
       "\t<li>0.0684844745264679</li>\n",
       "\t<li>0.0628177577786737</li>\n",
       "\t<li>0.0791152694380756</li>\n",
       "\t<li>0.0655000396182729</li>\n",
       "\t<li>0.0686059727224068</li>\n",
       "\t<li>0.0537348191055479</li>\n",
       "</ol>\n"
      ],
      "text/latex": [
       "\\begin{enumerate*}\n",
       "\\item 0.0697732514148804\n",
       "\\item 0.0683069866575996\n",
       "\\item 0.0635252044576023\n",
       "\\item 0.0736964264224981\n",
       "\\item 0.0684844745264679\n",
       "\\item 0.0628177577786737\n",
       "\\item 0.0791152694380756\n",
       "\\item 0.0655000396182729\n",
       "\\item 0.0686059727224068\n",
       "\\item 0.0537348191055479\n",
       "\\end{enumerate*}\n"
      ],
      "text/markdown": [
       "1. 0.0697732514148804\n",
       "2. 0.0683069866575996\n",
       "3. 0.0635252044576023\n",
       "4. 0.0736964264224981\n",
       "5. 0.0684844745264679\n",
       "6. 0.0628177577786737\n",
       "7. 0.0791152694380756\n",
       "8. 0.0655000396182729\n",
       "9. 0.0686059727224068\n",
       "10. 0.0537348191055479\n",
       "\n",
       "\n"
      ],
      "text/plain": [
       " [1] 0.06977325 0.06830699 0.06352520 0.07369643 0.06848447 0.06281776\n",
       " [7] 0.07911527 0.06550004 0.06860597 0.05373482"
      ]
     },
     "execution_count": 2,
     "metadata": {},
     "output_type": "execute_result"
    }
   ],
   "source": [
    "data_rdp <- read.table('data/Twins/Twin_RDP.genus',header=T,row.names=1,check.names=F,sep='\\t')\n",
    "data_rdp <- data_rdp[,-which(colSums(data_rdp) < 100)]\n",
    "translate <- read.table('data/Twins/sample_names',header=F,row.names=1,check.names=F,sep='\\t')\n",
    "colnames(data_rdp) <- translate[colnames(data_rdp),]\n",
    "\n",
    "data_rdp <- sweep(data_rdp,2,colSums(data_rdp),'/')\n",
    "### Load metadata\n",
    "meta <- read.table('data/Twins/metadata',header=T,row.names=1,check.names=F,sep='\\t')\n",
    "\n",
    "###Get the top X most abundant OUTs\n",
    "data_rdp <- data_rdp[order(rowSums(data_rdp),decreasing=T),]\n",
    "data_rdp <- log10(data_rdp[2:90,]+1e-5)\n",
    "data_rdp <- data.frame(t(data_rdp))\n",
    "fam <- meta[rownames(data_rdp),]$FamilyID\n",
    "#Get just one per family! \n",
    "data_rdp <- data_rdp[which(!duplicated(fam)),]\n",
    "data_rdp$res <- meta[rownames(data_rdp),]$body_mass_index\n",
    "data_rdp <- subset(data_rdp,!is.na(res))\n",
    "cross10(data_rdp,method='lasso',times=10)[[1]]\n"
   ]
  }
 ],
 "metadata": {
  "kernelspec": {
   "display_name": "R",
   "language": "R",
   "name": "ir"
  },
  "language_info": {
   "codemirror_mode": "r",
   "file_extension": ".r",
   "mimetype": "text/x-r-source",
   "name": "R",
   "pygments_lexer": "r",
   "version": "3.2.2"
  }
 },
 "nbformat": 4,
 "nbformat_minor": 0
}
