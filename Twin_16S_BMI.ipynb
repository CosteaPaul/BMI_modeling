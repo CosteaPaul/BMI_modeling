{
 "cells": [
  {
   "cell_type": "code",
   "execution_count": 4,
   "metadata": {
    "collapsed": false
   },
   "outputs": [],
   "source": [
    "library(glmnet)\n",
    "library(MASS)"
   ]
  },
  {
   "cell_type": "code",
   "execution_count": 5,
   "metadata": {
    "collapsed": true
   },
   "outputs": [],
   "source": [
    "cross10 <- function(data,method='lasso',times=2) {\n",
    "  last <- colnames(data)[ncol(data)]\n",
    "  formula_full <- paste(last,' ~ ',paste(colnames(data)[1:(ncol(data)-1)],collapse=' + '),sep='')\n",
    "  r <- NULL\n",
    "  all_pred <- NULL\n",
    "  for (j in 1:times) {\n",
    "    #Create 10 groups and randomly shuffle\n",
    "    groups <- cut(1:nrow(data),breaks=10,labels=F)\n",
    "    groups <- sample(groups,length(groups),replace=FALSE)\n",
    "    \n",
    "    pred <- NULL\n",
    "    for (i in 1:10) {\n",
    "      train <- which(groups != i)\n",
    "      train_set <- data[train,]\n",
    "      test_set <- data[-train,]\n",
    "      \n",
    "      #g <- svm(res ~ ., train_set)\n",
    "      #g <- lm(formula_full,data=train_set)\n",
    "      #g <- glm(formula_full,family=gaussian,data=train_set)\n",
    "      #p <- predict(g,test_set,type=\"response\")\n",
    "      if (method == 'rrBLUP') {\n",
    "\tg <- mixed.solve(train_set$res,Z=train_set[,1:(ncol(train_set)-1)],K=NULL,SE=FALSE,return.Hinv=FALSE)\n",
    "\tp <- (as.matrix(test_set[,1:(ncol(test_set)-1)]) %*% as.matrix(g[[\"u\"]]))[,1] + g[[\"beta\"]]\n",
    "      }\n",
    "      if (method == 'ridge') {\n",
    "\tf <- lm.ridge(res ~ ., data = train_set, lambda = seq(0,1000,1))\n",
    "\tg <- lm.ridge(res ~ ., data = train_set, lambda = as.numeric(glance(f)[3]))\n",
    "\tp <- scale(test_set[,1:(ncol(test_set)-1)],center = F, scale = g$scales)%*% g$coef + coef(g)[1]\n",
    "\tp <- p[,1]\n",
    "      }\n",
    "      if (method == 'lasso') {\n",
    "\ttest_set <- test_set[,-ncol(test_set)]\n",
    "\tfit <- cv.glmnet(as.matrix(train_set[,1:(ncol(train_set)-1)]),train_set[[\"res\"]],family=\"gaussian\",alpha=1)\n",
    "\tp <- predict(fit,newx=as.matrix(test_set), s=\"lambda.min\")\n",
    "\tp <- p[,1]\n",
    "      }\n",
    "      if (method == 'gboost') {\n",
    "\tgbm1 <- gbm(as.formula(formula_full),# formula\n",
    "\t    data=train_set,                    # dataset\n",
    "\t    distribution=\"gaussian\",     # see the help for other choices\n",
    "\t    n.trees=500,                # number of trees\n",
    "\t    shrinkage=0.05,              # shrinkage or learning rate,\n",
    "\t\t\t\t\t# 0.001 to 0.1 usually work\n",
    "\t    bag.fraction = 0.5,          # subsampling fraction, 0.5 is probably best\n",
    "\t    train.fraction = 0.9,        # fraction of data for training,\n",
    "\t\t\t\t\t# first train.fraction*N used for training\n",
    "\t    cv.folds = 5,                # do 3-fold cross-validation\n",
    "\t    keep.data=TRUE,              # keep a copy of the dataset with the object\n",
    "\t    verbose=FALSE,               # don't print out progress\n",
    "\t    n.cores=1)                   # use only a single core (detecting #cores is\n",
    "\n",
    "\tbest.iter <- gbm.perf(gbm1,method=\"cv\")\n",
    "\tp <- predict(gbm1,test_set,best.iter)\n",
    "\tnames(p) <- rownames(test_set)\n",
    "      }\n",
    "      #print(cor(p,data[names(p),]$res))\n",
    "      pred <- c(pred,p) \n",
    "    }\n",
    "    \n",
    "    all_pred <- rbind(all_pred,pred[rownames(data)])\n",
    "    rsq <- 1-(var(pred[rownames(data)]-data$res)/var(data$res))\n",
    "    r <- c(r,rsq)\n",
    "  }\n",
    "\n",
    "  all_pred <- colMeans(all_pred)\n",
    "  return(list(r,all_pred))\n",
    "}"
   ]
  },
  {
   "cell_type": "code",
   "execution_count": null,
   "metadata": {
    "collapsed": false
   },
   "outputs": [],
   "source": [
    "data_rdp <- read.table('Twin_RDP.genus',header=T,row.names=1,check.names=F,sep='\\t')\n",
    "data_rdp <- data_rdp[,-which(colSums(data_rdp) < 100)]\n",
    "translate <- read.table('sample_names',header=F,row.names=1,check.names=F,sep='\\t')\n",
    "colnames(data_rdp) <- translate[colnames(data_rdp),]\n",
    "\n",
    "data_rdp <- sweep(data_rdp,2,colSums(data_rdp),'/')\n",
    "### Load metadata\n",
    "meta <- read.table('metadata',header=T,row.names=1,check.names=F,sep='\\t')\n",
    "\n",
    "###Get the top X most abundant OUTs\n",
    "data_rdp <- data_rdp[order(rowSums(data_rdp),decreasing=T),]\n",
    "data_rdp <- log10(data_rdp[2:90,]+1e-5)\n",
    "data_rdp <- data.frame(t(data_rdp))\n",
    "fam <- meta[rownames(data_rdp),]$FamilyID\n",
    "#Get just one per family! \n",
    "data_rdp <- data_rdp[which(!duplicated(fam)),]\n",
    "data_rdp$res <- meta[rownames(data_rdp),]$body_mass_index\n",
    "data_rdp <- subset(data_rdp,!is.na(res))\n",
    "cross10(data_rdp,method='lasso',times=10)[[1]]\n"
   ]
  }
 ],
 "metadata": {
  "kernelspec": {
   "display_name": "R",
   "language": "R",
   "name": "ir"
  },
  "language_info": {
   "codemirror_mode": "r",
   "file_extension": ".r",
   "mimetype": "text/x-r-source",
   "name": "R",
   "pygments_lexer": "r",
   "version": "3.2.2"
  }
 },
 "nbformat": 4,
 "nbformat_minor": 0
}
